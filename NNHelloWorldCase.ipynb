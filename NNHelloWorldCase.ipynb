{
 "cells": [
  {
   "cell_type": "code",
   "execution_count": 1,
   "metadata": {
    "collapsed": true
   },
   "outputs": [],
   "source": [
    "#todo 导入库\n",
    "import os\n",
    "import numpy as np\n",
    "import pandas as pd\n",
    "import torch\n",
    "import torch.nn as nn\n",
    "import torch.optim as optim\n",
    "from torch.utils.data import Dataset, DataLoader"
   ]
  },
  {
   "cell_type": "code",
   "execution_count": 8,
   "outputs": [
    {
     "name": "stdout",
     "output_type": "stream",
     "text": [
      "0.6666666666666667= 0.1111111111111111 + 0.6666666666666667\n",
      "1.0= 0.6666666666666667 + 1.0\n"
     ]
    }
   ],
   "source": [
    "trans = [ 1/9, 5/9,  3/9,]\n",
    "for i in range(1, len(trans)):\n",
    "\ttrans[i] = trans[i -1 ] + trans[i]\n",
    "\tprint('{}= {} + {}'.format(trans[i] , trans[i -1 ] , trans[i]))"
   ],
   "metadata": {
    "collapsed": false,
    "pycharm": {
     "name": "#%%\n"
    }
   }
  },
  {
   "cell_type": "code",
   "execution_count": 2,
   "outputs": [
    {
     "name": "stdout",
     "output_type": "stream",
     "text": [
      "cuda:0\n"
     ]
    }
   ],
   "source": [
    "#todo 配置训练环境和超参数\n",
    "device = torch.device(\"cuda:0\" if torch.cuda.is_available() else \"cpu\")\n",
    "'''配置其他超参数，如batch_size, num_workers, learning rate, 以及总的epochs'''\n",
    "batch_size = 256\n",
    "num_workers = 4  # 对于Windows用户，这里应设置为0，否则会出现多线程错误\n",
    "lr = 1e-4\n",
    "epochs = 20\n",
    "print(device)\n",
    "torch.cuda.is_available()\n",
    "from torchvision.datasets import CIFAR10"
   ],
   "metadata": {
    "collapsed": false,
    "pycharm": {
     "name": "#%%\n"
    }
   }
  },
  {
   "cell_type": "code",
   "execution_count": 10,
   "outputs": [],
   "source": [
    "#todo 读取数据【以fashMnist为例】\n",
    "from torchvision import transforms\n",
    "\n",
    "image_size = 28\n",
    "data_transform = transforms.Compose(\n",
    "    [\n",
    "        transforms.ToPILImage(),  #mark这一步取决于后续的数据读取方式，如果使用内置数据集则不需要\n",
    "        transforms.Resize(image_size),\n",
    "        transforms.ToTensor()\n",
    "    ]\n",
    ")"
   ],
   "metadata": {
    "collapsed": false,
    "pycharm": {
     "name": "#%%\n"
    }
   }
  },
  {
   "cell_type": "code",
   "execution_count": null,
   "outputs": [],
   "source": [
    "'''\n",
    "#读取方式一：使用torchvision自带数据集，下载可能需要一段时间\n",
    "from torchvision import datasets\n",
    "train_data = datasets.FashionMNIST(root='./', train=True, download=True, transform=data_transform)\n",
    "test_data = datasets.FashionMNIST(root='./', train=False, download=True, transform=data_transform)\n",
    "'''"
   ],
   "metadata": {
    "collapsed": false,
    "pycharm": {
     "name": "#%%\n"
    }
   }
  },
  {
   "cell_type": "code",
   "execution_count": 11,
   "outputs": [],
   "source": [
    "'''#读取方式二：读入csv格式的数据，自行构建Dataset类 ,\n",
    "dataset说明详见：https://datawhalechina.github.io/thorough-pytorch/%E7%AC%AC%E4%B8%89%E7%AB%A0/3.3%20%E6%95%B0%E6%8D%AE%E8%AF%BB%E5%85%A5.html\n",
    "'''\n",
    "\n",
    "\n",
    "## 自行构建Dataset类,读入csv格式的数据，\n",
    "class FMDataset(Dataset):\n",
    "    def __init__(self, df, transform=None):\n",
    "        self.df = df  #传入的dataframe\n",
    "        self.transform = transform\n",
    "        self.images = df.iloc[:, 1:].values.astype(np.uint8)\n",
    "        self.labels = df.iloc[:, 0].values\n",
    "\n",
    "    def __len__(self):\n",
    "        return len(self.images)\n",
    "\n",
    "    def __getitem__(self, idx):\n",
    "        image = self.images[idx].reshape(28, 28, 1)  #输入是（1，764） 重新reshape\n",
    "        label = int(self.labels[idx])\n",
    "        if self.transform is not None:\n",
    "            image = self.transform(image)\n",
    "        else:\n",
    "            image = torch.tensor(image / 255., dtype=torch.float)  #读进来的数据转化成Tnesor\n",
    "        label = torch.tensor(label, dtype=torch.long)\n",
    "        return image, label\n",
    "\n",
    "\n",
    "train_df = pd.read_csv(r\"D:\\D数据盘\\PycharmProjects\\pythonProject\\dataSet\\fashion-mnist\\fashion-mnist_train.csv\")\n",
    "test_df = pd.read_csv(r\"D:\\D数据盘\\PycharmProjects\\pythonProject\\dataSet\\fashion-mnist\\fashion-mnist_test.csv\")\n",
    "train_data = FMDataset(train_df, data_transform)\n",
    "test_data = FMDataset(test_df, data_transform)"
   ],
   "metadata": {
    "collapsed": false,
    "pycharm": {
     "name": "#%%\n"
    }
   }
  },
  {
   "cell_type": "code",
   "execution_count": 12,
   "outputs": [
    {
     "name": "stdout",
     "output_type": "stream",
     "text": [
      "torch.Size([256, 1, 28, 28]) torch.Size([256])\n"
     ]
    },
    {
     "data": {
      "text/plain": "<matplotlib.image.AxesImage at 0x1b1266672c8>"
     },
     "execution_count": 12,
     "metadata": {},
     "output_type": "execute_result"
    },
    {
     "data": {
      "text/plain": "<Figure size 432x288 with 1 Axes>",
      "image/png": "[encoded data removed]"
     },
     "metadata": {
      "needs_background": "light"
     },
     "output_type": "display_data"
    }
   ],
   "source": [
    "## Dataloader加载数据\n",
    "train_loader = DataLoader(train_data, batch_size=batch_size, shuffle=True, num_workers=0, drop_last=True)\n",
    "test_loader = DataLoader(test_data, batch_size=batch_size, shuffle=True, num_workers=0)\n",
    "\n",
    "## 查看载入数据是否正确\n",
    "import matplotlib.pyplot as plt\n",
    "\n",
    "image, label = next(iter(test_loader))\n",
    "print(image.shape,  label.shape)#迭代器每次迭代256张图出来image来接收，对于image来说就是一个256张单通道28*28的list（即256，1，28，28）\n",
    "plt.imshow(image[0][0], cmap=\"gray\")"
   ],
   "metadata": {
    "collapsed": false,
    "pycharm": {
     "name": "#%%\n"
    }
   }
  },
  {
   "cell_type": "code",
   "execution_count": 55,
   "outputs": [
    {
     "name": "stdout",
     "output_type": "stream",
     "text": [
      "tensor([[[[0.0000, 0.0000, 0.0000,  ..., 0.0000, 0.0000, 0.0000],\n",
      "          [0.0000, 0.0000, 0.0000,  ..., 0.0000, 0.0000, 0.0000],\n",
      "          [0.0000, 0.0000, 0.0000,  ..., 0.0000, 0.0000, 0.0000],\n",
      "          ...,\n",
      "          [0.0000, 0.0000, 0.0000,  ..., 0.0000, 0.0000, 0.0000],\n",
      "          [0.0000, 0.0000, 0.0000,  ..., 0.0000, 0.0000, 0.0000],\n",
      "          [0.0000, 0.0000, 0.0000,  ..., 0.0000, 0.0000, 0.0000]]],\n",
      "\n",
      "\n",
      "        [[[0.0000, 0.0000, 0.0000,  ..., 0.0000, 0.0000, 0.0000],\n",
      "          [0.0000, 0.0000, 0.0000,  ..., 0.0000, 0.0000, 0.0000],\n",
      "          [0.0000, 0.0000, 0.0000,  ..., 0.0000, 0.0000, 0.0000],\n",
      "          ...,\n",
      "          [0.0000, 0.0000, 0.0000,  ..., 0.0000, 0.0000, 0.0000],\n",
      "          [0.0000, 0.0000, 0.0000,  ..., 0.0000, 0.0000, 0.0000],\n",
      "          [0.0000, 0.0000, 0.0000,  ..., 0.0000, 0.0000, 0.0000]]],\n",
      "\n",
      "\n",
      "        [[[0.0000, 0.0000, 0.0000,  ..., 0.0000, 0.0000, 0.0000],\n",
      "          [0.0000, 0.0000, 0.0000,  ..., 0.0000, 0.0000, 0.0000],\n",
      "          [0.0000, 0.0000, 0.0000,  ..., 0.0000, 0.0000, 0.0000],\n",
      "          ...,\n",
      "          [0.0000, 0.0000, 0.0000,  ..., 0.0000, 0.0000, 0.0000],\n",
      "          [0.0000, 0.0000, 0.0000,  ..., 0.0000, 0.0000, 0.0000],\n",
      "          [0.0000, 0.0000, 0.0000,  ..., 0.0000, 0.0000, 0.0000]]],\n",
      "\n",
      "\n",
      "        ...,\n",
      "\n",
      "\n",
      "        [[[0.0000, 0.0000, 0.0000,  ..., 0.0000, 0.0000, 0.0000],\n",
      "          [0.0000, 0.0000, 0.0000,  ..., 0.0000, 0.0000, 0.0000],\n",
      "          [0.0000, 0.0000, 0.0000,  ..., 0.0000, 0.0000, 0.0000],\n",
      "          ...,\n",
      "          [0.0000, 0.0000, 0.0000,  ..., 0.0000, 0.0000, 0.0000],\n",
      "          [0.0000, 0.0000, 0.0000,  ..., 0.0000, 0.0000, 0.0000],\n",
      "          [0.0000, 0.0000, 0.0000,  ..., 0.0000, 0.0000, 0.0000]]],\n",
      "\n",
      "\n",
      "        [[[0.0000, 0.0000, 0.0000,  ..., 0.0000, 0.0000, 0.0000],\n",
      "          [0.0000, 0.0000, 0.0000,  ..., 0.0000, 0.0000, 0.0000],\n",
      "          [0.0000, 0.0000, 0.0000,  ..., 0.0000, 0.0000, 0.0000],\n",
      "          ...,\n",
      "          [0.0000, 0.0000, 0.0000,  ..., 0.0000, 0.0000, 0.0000],\n",
      "          [0.0000, 0.0000, 0.0000,  ..., 0.0000, 0.0000, 0.0000],\n",
      "          [0.0000, 0.0000, 0.0000,  ..., 0.0000, 0.0000, 0.0000]]],\n",
      "\n",
      "\n",
      "        [[[0.0000, 0.0000, 0.0000,  ..., 0.0000, 0.0000, 0.0000],\n",
      "          [0.0000, 0.0000, 0.0000,  ..., 0.0000, 0.0000, 0.0000],\n",
      "          [0.0000, 0.0000, 0.0000,  ..., 0.0000, 0.0000, 0.0000],\n",
      "          ...,\n",
      "          [0.0000, 0.0000, 0.0000,  ..., 0.0000, 0.0000, 0.0000],\n",
      "          [0.0000, 0.0000, 0.0000,  ..., 0.0000, 0.0000, 0.0000],\n",
      "          [0.0000, 0.0000, 0.0000,  ..., 0.0078, 0.0000, 0.0000]]]])\n"
     ]
    }
   ],
   "source": [
    "print(image)"
   ],
   "metadata": {
    "collapsed": false,
    "pycharm": {
     "name": "#%%\n"
    }
   }
  },
  {
   "cell_type": "code",
   "execution_count": 13,
   "outputs": [],
   "source": [
    "#todo 模型设计[CNN为例]\n",
    "class Net(nn.Module):\n",
    "    def __init__(self):\n",
    "        super(Net, self).__init__()\n",
    "        self.conv = nn.Sequential(\n",
    "            nn.Conv2d(1, 32, 5),\n",
    "            nn.ReLU(),\n",
    "            nn.MaxPool2d(2, stride=2),\n",
    "            nn.Dropout(0.3),\n",
    "            nn.Conv2d(32, 64, 5),\n",
    "            nn.ReLU(),\n",
    "            nn.MaxPool2d(2, stride=2),\n",
    "            nn.Dropout(0.3)\n",
    "\n",
    "        )\n",
    "        self.fc = nn.Sequential(\n",
    "            nn.Linear(64 * 4 * 4, 512),\n",
    "            nn.ReLU(),\n",
    "            nn.Linear(512, 10)\n",
    "\n",
    "        )\n",
    "\n",
    "    def forward(self, x):\n",
    "        x = self.conv(x)\n",
    "        x = x.view(-1, 64 * 4 * 4)\n",
    "        x = self.fc(x)\n",
    "        return x\n",
    "\n",
    "\n",
    "model = Net()\n",
    "model = model.cuda()\n",
    "# model = nn.DataParallel(model).cuda()   # 多卡训练时的写法"
   ],
   "metadata": {
    "collapsed": false,
    "pycharm": {
     "name": "#%%\n"
    }
   }
  },
  {
   "cell_type": "code",
   "execution_count": 14,
   "outputs": [],
   "source": [
    "#todo 设定损失函数,优化器\n",
    "'''\n",
    "使用torch.nn模块自带的CrossEntropy损失\n",
    "PyTorch会自动把整数型的label转为one-hot型，用于计算CE loss\n",
    "这里需要确保label是从0开始的，同时模型不加softmax层（使用logits计算）,这也说明了PyTorch训练中各个部分不是独立的，需要通盘考虑\n",
    "'''\n",
    "criterion = nn.CrossEntropyLoss()\n",
    "optimizer = optim.Adam(model.parameters(), lr=1e-3)\n"
   ],
   "metadata": {
    "collapsed": false,
    "pycharm": {
     "name": "#%%\n"
    }
   }
  },
  {
   "cell_type": "code",
   "execution_count": 15,
   "outputs": [
    {
     "name": "stdout",
     "output_type": "stream",
     "text": [
      "Epoch: 1 \tTraining Loss: 0.686951\n",
      "Epoch: 1 \tValidation Loss: 0.471564, Accuracy: 0.830800\n",
      "Epoch: 2 \tTraining Loss: 0.432371\n",
      "Epoch: 2 \tValidation Loss: 0.355756, Accuracy: 0.873900\n",
      "Epoch: 3 \tTraining Loss: 0.367457\n",
      "Epoch: 3 \tValidation Loss: 0.315705, Accuracy: 0.882900\n",
      "Epoch: 4 \tTraining Loss: 0.332193\n",
      "Epoch: 4 \tValidation Loss: 0.279223, Accuracy: 0.898700\n",
      "Epoch: 5 \tTraining Loss: 0.308863\n",
      "Epoch: 5 \tValidation Loss: 0.285407, Accuracy: 0.896000\n",
      "Epoch: 6 \tTraining Loss: 0.291494\n",
      "Epoch: 6 \tValidation Loss: 0.263041, Accuracy: 0.905400\n",
      "Epoch: 7 \tTraining Loss: 0.278233\n",
      "Epoch: 7 \tValidation Loss: 0.251713, Accuracy: 0.907100\n",
      "Epoch: 8 \tTraining Loss: 0.262124\n",
      "Epoch: 8 \tValidation Loss: 0.239732, Accuracy: 0.909100\n",
      "Epoch: 9 \tTraining Loss: 0.252581\n",
      "Epoch: 9 \tValidation Loss: 0.232857, Accuracy: 0.911800\n",
      "Epoch: 10 \tTraining Loss: 0.245607\n",
      "Epoch: 10 \tValidation Loss: 0.241957, Accuracy: 0.907500\n",
      "Epoch: 11 \tTraining Loss: 0.235822\n",
      "Epoch: 11 \tValidation Loss: 0.225607, Accuracy: 0.916300\n",
      "Epoch: 12 \tTraining Loss: 0.226332\n",
      "Epoch: 12 \tValidation Loss: 0.231929, Accuracy: 0.915600\n",
      "Epoch: 13 \tTraining Loss: 0.220133\n",
      "Epoch: 13 \tValidation Loss: 0.221775, Accuracy: 0.916900\n",
      "Epoch: 14 \tTraining Loss: 0.214368\n",
      "Epoch: 14 \tValidation Loss: 0.215364, Accuracy: 0.921100\n",
      "Epoch: 15 \tTraining Loss: 0.208748\n",
      "Epoch: 15 \tValidation Loss: 0.227059, Accuracy: 0.913400\n",
      "Epoch: 16 \tTraining Loss: 0.200457\n",
      "Epoch: 16 \tValidation Loss: 0.223569, Accuracy: 0.916700\n",
      "Epoch: 17 \tTraining Loss: 0.191586\n",
      "Epoch: 17 \tValidation Loss: 0.207562, Accuracy: 0.921100\n",
      "Epoch: 18 \tTraining Loss: 0.186411\n",
      "Epoch: 18 \tValidation Loss: 0.215237, Accuracy: 0.919900\n",
      "Epoch: 19 \tTraining Loss: 0.185546\n",
      "Epoch: 19 \tValidation Loss: 0.211407, Accuracy: 0.921100\n",
      "Epoch: 20 \tTraining Loss: 0.177239\n",
      "Epoch: 20 \tValidation Loss: 0.203440, Accuracy: 0.922500\n"
     ]
    }
   ],
   "source": [
    "#todo 训练和测试（验证）\n",
    "'''\n",
    "各自封装成函数，方便后续调用\n",
    "关注两者的主要区别：\n",
    "    1：模型状态设置\n",
    "    2:是否需要初始化优化器\n",
    "    3:是否需要将loss传回到网络\n",
    "    4:是否需要每步更新optimizer\n",
    "'''\n",
    "def train(epoch):\n",
    "    model.train()#区别1\n",
    "    train_loss = 0\n",
    "    for data, label in train_loader:\n",
    "        data, label = data.cuda(), label.cuda()\n",
    "        optimizer.zero_grad()  ##区别2 清零梯度，即优化器初始化\n",
    "        #输入数据-》计算误差-》反向传播-》更新梯度\n",
    "        output = model(data)\n",
    "        loss = criterion(output, label)\n",
    "        loss.backward()\n",
    "        optimizer.step()#区别4\n",
    "        train_loss += loss.item() * data.size(0)\n",
    "        '''\n",
    "        # data.size(0)是当前批次的样本数，乘以样本数是因为求误差公式1/n (y-yhat)^2，误差loss是所有样本的和再取平均。\n",
    "        所以在for单次是一个批次样本的loss总和，后面for外部就是总train_loss/len(train_loader.dataset)【总误差/除以整个数据集样本数量】\n",
    "        这也是为什么打印出来loss越来越大，因为是样本的误差和\n",
    "        '''\n",
    "        # print('train ===now train_loss is {}'.format(train_loss))\n",
    "    train_loss = train_loss / len(train_loader.dataset)\n",
    "    print('Epoch: {} \\tTraining Loss: {:.6f}'.format(epoch, train_loss))\n",
    "\n",
    "def val(epoch):\n",
    "    model.eval()\n",
    "    val_loss = 0\n",
    "    gt_labels = []\n",
    "    pred_labels = []\n",
    "    with torch.no_grad():  #区别3\n",
    "        for data, label in test_loader:\n",
    "            data, label = data.cuda(), label.cuda()\n",
    "            output = model(data)\n",
    "            preds = torch.argmax(output,1)  #返回指定维度最大值的序号,max是返回 value，idx【https://blog.csdn.net/qq_46092061/article/details/120612102】\n",
    "            gt_labels.append(label.cpu().data.numpy()) #添加这个batch中真实值的label\n",
    "            pred_labels.append(preds.cpu().data.numpy()) #添加这个batch中预测值的label\n",
    "            loss = criterion(output, label)\n",
    "            val_loss += loss.item() * data.size(0)\n",
    "    val_loss = val_loss / len(test_loader.dataset)\n",
    "    ''' debug\n",
    "    print(len(gt_labels)) # 结果40,因为10000张图片10000/256=39.0625≈40\n",
    "    print(gt_labels) # 结果为一个含有40个list,每个list有256个预测值的list\n",
    "    '''\n",
    "    '''计算acc'''\n",
    "    gt_labels, pred_labels = np.concatenate(gt_labels), np.concatenate(pred_labels) #合并真实值、预测值的标签\n",
    "    acc = np.sum(gt_labels==pred_labels)/len(pred_labels)\n",
    "    print('Epoch: {} \\tValidation Loss: {:.6f}, Accuracy: {:6f}'.format(epoch, val_loss, acc))\n",
    "\n",
    "for epoch in range(1, epochs+1):\n",
    "    train(epoch)\n",
    "    val(epoch)"
   ],
   "metadata": {
    "collapsed": false,
    "pycharm": {
     "name": "#%%\n"
    }
   }
  },
  {
   "cell_type": "code",
   "execution_count": 16,
   "outputs": [
    {
     "data": {
      "text/plain": "<All keys matched successfully>"
     },
     "execution_count": 16,
     "metadata": {},
     "output_type": "execute_result"
    }
   ],
   "source": [
    "#todo 保存/调用模型\n",
    "save_path = \"./FahionModel.pkl\"\n",
    "## 模型与参数一起保存\n",
    "torch.save(model, save_path)# model.state_dict()仅保存参数，重新使用时\n",
    "seq_net1 = torch.load(save_path)\n",
    "## 仅保存模型参数，需要重新建立模型才可使用\n",
    "torch.save(model.state_dict(), save_path)\n",
    "seq_net1 = Net()\n",
    "seq_net1.load_state_dict(torch.load(save_path))"
   ],
   "metadata": {
    "collapsed": false,
    "pycharm": {
     "name": "#%%\n"
    }
   }
  },
  {
   "cell_type": "code",
   "execution_count": null,
   "outputs": [],
   "source": [],
   "metadata": {
    "collapsed": false,
    "pycharm": {
     "name": "#%%\n"
    }
   }
  },
  {
   "cell_type": "code",
   "execution_count": null,
   "outputs": [],
   "source": [
    "if not None:\n",
    "    print(1)"
   ],
   "metadata": {
    "collapsed": false,
    "pycharm": {
     "name": "#%%\n"
    }
   }
  }
 ],
 "metadata": {
  "kernelspec": {
   "display_name": "Python 3",
   "language": "python",
   "name": "python3"
  },
  "language_info": {
   "codemirror_mode": {
    "name": "ipython",
    "version": 2
   },
   "file_extension": ".py",
   "mimetype": "text/x-python",
   "name": "python",
   "nbconvert_exporter": "python",
   "pygments_lexer": "ipython2",
   "version": "2.7.6"
  }
 },
 "nbformat": 4,
 "nbformat_minor": 0
}